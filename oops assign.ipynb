{
 "cells": [
  {
   "cell_type": "markdown",
   "id": "b7c8d3f7-c3a1-4212-bcf8-5262390c6af8",
   "metadata": {},
   "source": [
    "Q1- Explain Class and Object with respect to Object-Oriented Programming. Give a suitable example."
   ]
  },
  {
   "cell_type": "markdown",
   "id": "5ad6ac12-d27b-4b4c-a71d-7103aeeecafb",
   "metadata": {},
   "source": [
    "#A class can be defined as a template/blueprint that describes the behavior/state that the object of its type support.\n",
    "Objects have states and behaviors.An object is an instance of a class\n",
    "for exmaple:\n",
    "a cricketer is class where we have a bowler,batsmen,fielder & wicketkeeper now there are the object of the class- cricketer."
   ]
  },
  {
   "cell_type": "markdown",
   "id": "4acd7e40-f47e-4a04-bdfa-e2becd69eb8e",
   "metadata": {},
   "source": [
    "Q2. Name the four pillars of OOPs."
   ]
  },
  {
   "cell_type": "markdown",
   "id": "0b008f52-e0e5-4753-a97c-f2414cbda7fc",
   "metadata": {},
   "source": [
    "#\n",
    "there are four pillars\n",
    "\n",
    "Encapsulation\n",
    "Inheritance\n",
    "Polymorphism\n",
    "Abstraction"
   ]
  },
  {
   "cell_type": "markdown",
   "id": "7b4f5f06-ef35-44d0-a09d-5aa4c409e92d",
   "metadata": {},
   "source": [
    "Q3. Explain why the __init__() function is used. Give a suitable example."
   ]
  },
  {
   "cell_type": "markdown",
   "id": "e560266a-2053-48c6-af3f-d429f5025d6f",
   "metadata": {},
   "source": [
    " The __init__  function is called every time an object is created from a class. The __init__ method lets the class initialize the object’s attributes and serves no other purpose. It is only used within classes. \n",
    " For example \\- we take take exapmle of a plyaer category"
   ]
  },
  {
   "cell_type": "code",
   "execution_count": 5,
   "id": "38e33858-a9f2-4048-8466-9ea0ec7c668d",
   "metadata": {},
   "outputs": [],
   "source": [
    "class player:\n",
    "    def __init__(self,Game,Gender,Nos_of_players):\n",
    "        self.Game= Game\n",
    "        self.Gender=Gender\n",
    "        self.Nos_of_players = Nos_of_players\n",
    "        "
   ]
  },
  {
   "cell_type": "code",
   "execution_count": 14,
   "id": "302606bf-7af5-437c-bc74-17c606ea8384",
   "metadata": {},
   "outputs": [],
   "source": [
    "Rajat=player(\"Cricket\",\"m\",11)"
   ]
  },
  {
   "cell_type": "markdown",
   "id": "eb28d985-9847-43f4-b76a-0aae856af169",
   "metadata": {},
   "source": [
    "Q4. Why self is used in OOPs?"
   ]
  },
  {
   "cell_type": "markdown",
   "id": "3c297b17-e9af-4bf1-b96c-f073c72c788e",
   "metadata": {},
   "source": [
    "The self parameter is a reference to the current instance of the class, and is used to access variables that belongs to the class. Basically it works as a marker."
   ]
  },
  {
   "cell_type": "markdown",
   "id": "d7dad0d1-e29c-48a8-9716-026e5186506a",
   "metadata": {},
   "source": [
    "Q5. What is inheritance? Give an example for each type of inheritance."
   ]
  },
  {
   "cell_type": "markdown",
   "id": "9dd76fa2-9bb8-461b-ba65-67f44bbccadc",
   "metadata": {},
   "source": [
    "Inheritance is a mechanism in which one class acquires the property of another class."
   ]
  },
  {
   "cell_type": "markdown",
   "id": "5d9587d1-d6c2-4018-85aa-fb1a4c374b3b",
   "metadata": {},
   "source": [
    "Single Inheritance: When child class is derived from only one parent class. This is called single inheritance. \n"
   ]
  },
  {
   "cell_type": "code",
   "execution_count": 5,
   "id": "2b436303-d333-4705-9826-53ae5b82efc2",
   "metadata": {},
   "outputs": [
    {
     "name": "stdout",
     "output_type": "stream",
     "text": [
      "Amazon is an Online Ecommerce Store\n",
      "Lenskart is an Online eyewear store \n",
      "Olx is an Online Buy Sell Store\n"
     ]
    }
   ],
   "source": [
    "class Brands:               #parent_class\n",
    "    brand_name_1 = \"Amazon\"\n",
    "    brand_name_2 = \"Lenskart\"\n",
    "    brand_name_3 = \"Olx\"\n",
    "    \n",
    "class Products(Brands):       #child_class\n",
    "    prod_1 = \"Online Ecommerce Store\"\n",
    "    prod_2 = \"Online eyewear store \"\n",
    "    prod_3 = \"Online Buy Sell Store\"\n",
    "    \n",
    "obj_1 = Products()          #Object_creation\n",
    "print(obj_1.brand_name_1+\" is an \"+obj_1.prod_1)\n",
    "print(obj_1.brand_name_2+\" is an \"+obj_1.prod_2)\n",
    "print(obj_1.brand_name_3+\" is an \"+obj_1.prod_3)"
   ]
  },
  {
   "cell_type": "markdown",
   "id": "33596420-51df-40aa-8fbc-58b27bbe2209",
   "metadata": {},
   "source": [
    "Multiple Inheritance: When child class is derived or inherited from more than one parent class. This is called multiple inheritance. In multiple inheritance, we have two parent classes/base classes and one child class that inherits both parent classes properties."
   ]
  },
  {
   "cell_type": "code",
   "execution_count": 39,
   "id": "604c0a6a-5a1e-47fa-9bb1-63f5ef9e3934",
   "metadata": {},
   "outputs": [
    {
     "name": "stdout",
     "output_type": "stream",
     "text": [
      "Mammals can give direct birth.\n",
      "Winged animals can flap.\n"
     ]
    }
   ],
   "source": [
    "class Mammal:\n",
    "    def mammal_info(self):\n",
    "        print(\"Mammals can give direct birth.\")\n",
    "\n",
    "class WingedAnimal:\n",
    "    def winged_animal_info(self):\n",
    "        print(\"Winged animals can flap.\")\n",
    "\n",
    "class Bat(Mammal, WingedAnimal):\n",
    "    pass\n",
    "\n",
    "# create an object of Bat class\n",
    "b1 = Bat()\n",
    "\n",
    "b1.mammal_info()\n",
    "b1.winged_animal_info()"
   ]
  },
  {
   "cell_type": "markdown",
   "id": "146e6147-c15d-4bb3-b307-ddf151c27230",
   "metadata": {},
   "source": [
    "Multilevel Inheritance: In multilevel inheritance, we have one parent class and child class that is derived or inherited from that parent class. We have a grand-child class that is derived from the child class. See the below-given flow diagram to understand more clearly."
   ]
  },
  {
   "cell_type": "code",
   "execution_count": 38,
   "id": "61e3c5f7-2399-4a3d-847c-ec6883c974db",
   "metadata": {},
   "outputs": [
    {
     "name": "stdout",
     "output_type": "stream",
     "text": [
      "Amazon is an Online Ecommerce Store popularity of 100\n",
      "Ebay is an Online Store popularity of 70\n",
      "OLX is an Online Buy Sell Store popularity of 60\n"
     ]
    }
   ],
   "source": [
    "class Brands:                      #parent_class\n",
    "    brand_name_1 = \"Amazon\"\n",
    "    brand_name_2 = \"Ebay\"\n",
    "    brand_name_3 = \"OLX\"\n",
    "    \n",
    "class Products(Brands):            #child_class\n",
    "    prod_1 = \"Online Ecommerce Store\"\n",
    "    prod_2 = \"Online Store\"\n",
    "    prod_3 = \"Online Buy Sell Store\"\n",
    "\n",
    "class Popularity(Products):        #grand_child_class\n",
    "    prod_1_popularity = 100\n",
    "    prod_2_popularity = 70\n",
    "    prod_3_popularity = 60\n",
    "    \n",
    "    \n",
    "obj_1 = Popularity()          #Object_creation\n",
    "print(obj_1.brand_name_1+\" is an \"+obj_1.prod_1+\" popularity of \"+str(obj_1.prod_1_popularity))\n",
    "print(obj_1.brand_name_2+\" is an \"+obj_1.prod_2+\" popularity of \"+str(obj_1.prod_2_popularity))\n",
    "print(obj_1.brand_name_3+\" is an \"+obj_1.prod_3+\" popularity of \"+str(obj_1.prod_3_popularity))"
   ]
  },
  {
   "cell_type": "markdown",
   "id": "22b2fc10-ea0f-4cd9-83d0-0d06b2298897",
   "metadata": {},
   "source": [
    "Hierarchical inheritance: When we derive or inherit more than one child class from one(same) parent class. Then this type of inheritance is called hierarchical inheritance."
   ]
  },
  {
   "cell_type": "code",
   "execution_count": 41,
   "id": "2aa6ce93-0527-4669-9bc9-6529f4b24430",
   "metadata": {},
   "outputs": [
    {
     "name": "stdout",
     "output_type": "stream",
     "text": [
      "Amazon is an Online Ecommerce Store\n",
      "Ebay is an Online Store\n",
      "OLX is an Online Buy Sell Store\n"
     ]
    }
   ],
   "source": [
    "class Brands:                      #parent_class\n",
    "    brand_name_1 = \"Amazon\"\n",
    "    brand_name_2 = \"Ebay\"\n",
    "    brand_name_3 = \"OLX\"\n",
    "    \n",
    "class Products(Brands):            #child_class\n",
    "    prod_1 = \"Online Ecommerce Store\"\n",
    "    prod_2 = \"Online Store\"\n",
    "    prod_3 = \"Online Buy Sell Store\"\n",
    "\n",
    "class Popularity(Brands):        #grand_child_class\n",
    "    prod_1_popularity = 100\n",
    "    prod_2_popularity = 70\n",
    "    prod_3_popularity = 60\n",
    "\n",
    "class Value(Brands):\n",
    "    prod_1_value = \"Excellent Value\"\n",
    "    prod_2_value = \"Better Value\"\n",
    "    prod_3_value = \"Good Value\"\n",
    "    \n",
    "obj_1 = Products()          #Object_creation\n",
    "obj_2 = Popularity()\n",
    "obj_3 = Value()\n",
    "print(obj_1.brand_name_1+\" is an \"+obj_1.prod_1)\n",
    "print(obj_1.brand_name_2+\" is an \"+obj_1.prod_2)\n",
    "print(obj_1.brand_name_3+\" is an \"+obj_1.prod_3)"
   ]
  },
  {
   "cell_type": "markdown",
   "id": "9b3d96a1-ecb0-4974-b479-09cf92916e85",
   "metadata": {},
   "source": [
    " Hybrid Inheritance: Hybrid inheritance satisfies more than one form of inheritance ie. It may be consists of all types of inheritance that we have done above. It is not wrong if we say Hybrid Inheritance is the combinations of simple, multiple, multilevel and hierarchical inheritance. This type of inheritance is very helpful if we want to use concepts of inheritance without any limitations according to our requirements."
   ]
  },
  {
   "cell_type": "code",
   "execution_count": null,
   "id": "c741d7e8-b77d-4c64-9506-4a3153206b40",
   "metadata": {},
   "outputs": [],
   "source": []
  }
 ],
 "metadata": {
  "kernelspec": {
   "display_name": "Python 3 (ipykernel)",
   "language": "python",
   "name": "python3"
  },
  "language_info": {
   "codemirror_mode": {
    "name": "ipython",
    "version": 3
   },
   "file_extension": ".py",
   "mimetype": "text/x-python",
   "name": "python",
   "nbconvert_exporter": "python",
   "pygments_lexer": "ipython3",
   "version": "3.10.8"
  }
 },
 "nbformat": 4,
 "nbformat_minor": 5
}
